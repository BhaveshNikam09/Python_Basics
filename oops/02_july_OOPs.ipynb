{
 "cells": [
  {
   "cell_type": "markdown",
   "id": "f32b69d7-fbe0-4def-b019-0d7663924f4c",
   "metadata": {},
   "source": [
    "1.Explain what inheritance is in object-oriented programming and why it is used:\n",
    "->\n",
    "Inheritance is a fundamental concept in object-oriented programming (OOP) that allows one class (called the child or subclass) to inherit attributes and methods from another class (called the parent or superclass). This helps to create a hierarchy of classes that share common functionality, reducing code duplication and promoting code reuse.\n",
    "\n",
    "Key Points of Inheritance:\n",
    "Code Reusability: Inheritance allows you to use existing code by inheriting features from another class, which helps to avoid redundancy and makes the codebase easier to maintain.\n",
    "\n",
    "Hierarchical Structure: It helps in organizing code in a hierarchical manner. For example, you might have a base class Animal with common features, and subclasses like Dog and Cat that inherit these features while also having their own specific attributes and behaviors.\n",
    "\n",
    "Extensibility: You can extend the functionality of a base class without modifying it. If you need to add more features or adjust behavior, you can do so in the subclass.\n",
    "\n",
    "Polymorphism: Inheritance supports polymorphism, which means that a subclass can be treated as an instance of its parent class. This allows for more flexible and interchangeable code."
   ]
  },
  {
   "cell_type": "markdown",
   "id": "e938c100-0ff0-496a-9c24-aede10a01dc6",
   "metadata": {},
   "source": [
    "2.Discuss the concept of single inheritance and multiple inheritance, highlighting their differences and advantages:\n",
    "->\n",
    "1]Single Inheritance\n",
    "Definition: Single inheritance is when a class (subclass) inherits from only one parent class (superclass). This means that the subclass derives attributes and methods from a single base class.\n",
    "\n",
    "Advantages:\n",
    "\n",
    "1)Simplicity: Single inheritance is simpler to understand and implement because there’s only one parent class to manage.\n",
    "2)Clarity: It avoids complexities related to multiple inheritance, such as ambiguity in method resolution.\n",
    "3)Maintainability: Changes in the parent class will propagate to the subclass, making it easier to maintain and update the code.\n",
    "\n",
    "2]Multiple Inheritance\n",
    "Definition: Multiple inheritance occurs when a class (subclass) inherits from more than one parent class. This allows the subclass to combine features from multiple base classes.\n",
    "\n",
    "Advantages:\n",
    "\n",
    "1)Flexibility: Multiple inheritance allows a subclass to combine behaviors and attributes from multiple classes, leading to more flexible designs.\n",
    "2)Code Reuse: It can be used to aggregate functionality from several classes without having to duplicate code."
   ]
  },
  {
   "cell_type": "markdown",
   "id": "2e275831-41e3-4814-b6bc-0656875d2d47",
   "metadata": {},
   "source": [
    "3.Explain the terms \"base class\" and \"derived class\" in the context of inheritance :\n",
    "->\n",
    "1)Base Class\n",
    "           A base class, also known as a parent class or superclass, is the class that provides common attributes and methods which can be inherited by other classes. It serves as a foundation for other classes to build upon.\n",
    "\n",
    "2)Derived Class\n",
    "            A derived class, also known as a child class or subclass, is a class that inherits attributes and methods from a base class. It can extend or override the functionality provided by the base class."
   ]
  },
  {
   "cell_type": "markdown",
   "id": "e46f100b-71e1-4696-b7e5-ac8d47d821ac",
   "metadata": {},
   "source": [
    "4.What is the significance of the \"protected\" access modifier in inheritance? How does it differ from \"private\" and \"public\" modifiers :\n",
    "->\n",
    "##Access Modifiers :\n",
    "1)Public: Members with the public access modifier are accessible from any part of the program, including outside the class. They provide the least restriction on accessibility.\n",
    "\n",
    "2)Protected: Members with the protected access modifier are accessible within the class itself and by derived (subclass) classes. They are not accessible from outside the class hierarchy.\n",
    "\n",
    "3)Private: Members with the private access modifier are accessible only within the class they are defined in. They are not accessible from derived classes or from outside the class.\n",
    "\n",
    "##Significance of the \"Protected\" Modifier:\n",
    "1)Visibility in Inheritance: The protected access modifier allows derived classes to access and modify members of the base class, which facilitates code reuse and extension. This means that derived classes can use the protected members of their base class, but those members remain hidden from outside the class hierarchy.\n",
    "\n",
    "2)Encapsulation: Protected access helps in maintaining encapsulation while still allowing subclasses to interact with base class data and methods that should not be exposed to the general public. This strikes a balance between hiding implementation details and allowing controlled access.\n",
    "\n",
    "##Comparison with \"Private\" and \"Public\"\n",
    "1)Public:\n",
    "Visibility: Fully visible and accessible from outside the class.\n",
    "Usage: Typically used for methods and attributes that are meant to be part of the public interface of the class.\n",
    "\n",
    "2)Protected:\n",
    "Visibility: Visible within the class and its derived classes but not accessible from outside these classes.\n",
    "Usage: Used for methods and attributes that are intended to be used by subclasses but should not be exposed to the general public.\n",
    "\n",
    "3)Private:\n",
    "Visibility: Only visible within the class itself.\n",
    "Usage: Used for internal data and methods that should not be exposed to derived classes or other parts of the program."
   ]
  },
  {
   "cell_type": "markdown",
   "id": "b71d93f9-f55c-460d-92f1-4a3547b22ad0",
   "metadata": {},
   "source": [
    "5.What is the purpose of the \"super\" keyword in inheritance? Provide an example.\n",
    "->\n",
    "The super keyword is used in object-oriented programming to refer to the parent class (or superclass) from within a derived class (or subclass). It serves several important purposes in inheritance:\n",
    "\n",
    "##Purpose of the super Keyword\n",
    "1)Access Parent Class Methods: super allows you to call methods from the parent class, which is useful when you want to extend or modify the behavior of inherited methods without completely overriding them.\n",
    "\n",
    "2)Initialize Parent Class: When initializing a derived class, super is commonly used to call the constructor of the parent class to ensure that the parent class is properly initialized.\n",
    "\n",
    "3)Avoid Explicit Parent Class Name: Using super avoids the need to explicitly reference the parent class by name, which can help make your code more maintainable and flexible, especially in complex class hierarchies."
   ]
  },
  {
   "cell_type": "code",
   "execution_count": 9,
   "id": "b95b1489-5048-480a-92ca-2338d1ff0266",
   "metadata": {},
   "outputs": [
    {
     "name": "stdout",
     "output_type": "stream",
     "text": [
      "Make: Audi, Model: a8, Year: 2024\n",
      "Fuel Type: Petrol\n"
     ]
    }
   ],
   "source": [
    "# 6.Create a base class called \"Vehicle\" with attributes like \"make\", \"model\", and \"year\".Then, create a derived class called \"Car\" that inherits from \"Vehicle\" and adds anattribute called \"fuel_type\". Implement appropriate methods in both classes.\n",
    "class Vehicle:\n",
    "    def __init__(self, make, model, year):\n",
    "        self.make=make\n",
    "        self.model=model\n",
    "        self.year=year\n",
    "    \n",
    "    def display_info1(self):\n",
    "        print(f\"Make: {self.make}, Model: {self.model}, Year: {self.year}\")\n",
    "\n",
    "class car(Vehicle):\n",
    "    def __init__(self,make,model,year,fuel_type):\n",
    "        super().__init__(make,model,year)\n",
    "        self.fuel_type=fuel_type\n",
    "        \n",
    "    def display_info(self):\n",
    "        print(f\"Fuel Type: {self.fuel_type}\")\n",
    "        \n",
    "c1=car('Audi','a8',2024,'Petrol')\n",
    "c1.display_info1()\n",
    "c1.display_info()"
   ]
  },
  {
   "cell_type": "code",
   "execution_count": 4,
   "id": "75fed1f0-8b73-4734-b5cc-0c5f9abcdb93",
   "metadata": {},
   "outputs": [
    {
     "name": "stdout",
     "output_type": "stream",
     "text": [
      "Name:Bhavesh , Salary:2350000  , Programming Language : Data Scientist\n",
      "Name:Harshal , Salary:2250000 , Department : HR\n"
     ]
    }
   ],
   "source": [
    "\"\"\"\"7.Create a base class called \"Employee\" with attributes like \"name\" and \"salary.\" \n",
    "Derive two classes, \"Manager\" and \"Developer,\" from \"Employee.\" Add an additional\n",
    "attribute called \"department\" for the \"Manager\" class and \"programming_language\"\n",
    "for the \"Developer\" class.\"\"\"\n",
    "class employee:\n",
    "    def __init__(self, name, salary):\n",
    "        self.name=name\n",
    "        self.salary=salary\n",
    "    \n",
    "    def display(self):\n",
    "        return f'Name:{self.name} , Salary:{self.salary} '\n",
    "        \n",
    "class manager(employee):\n",
    "    def __init__(self,name,salary,department):\n",
    "        super().__init__(name,salary)\n",
    "        self.department=department\n",
    "        \n",
    "    def display_info(self):\n",
    "        basic_info=super().display()\n",
    "        print(f'{basic_info}, Department : {self.department}')\n",
    "        \n",
    "class developer(employee):\n",
    "    def __init__(self,name,salary,programming_language):\n",
    "        super().__init__(name,salary)\n",
    "        self.programming_language=programming_language\n",
    "\n",
    "    def display_info1(self):\n",
    "        basic_info=super().display()\n",
    "        print(f'{basic_info} , Programming Language : {self.programming_language}')\n",
    "        \n",
    "d1=developer('Bhavesh',2350000,'Data Scientist')\n",
    "m1=manager('Harshal',2250000,'HR')\n",
    "\n",
    "d1.display_info1()\n",
    "m1.display_info()\n"
   ]
  },
  {
   "cell_type": "code",
   "execution_count": 6,
   "id": "5073f2d9-f192-41b8-9aff-650f02c42aee",
   "metadata": {},
   "outputs": [
    {
     "name": "stdout",
     "output_type": "stream",
     "text": [
      "Drawing a shape with color red and border width 1.2 \n",
      "None and with the legnth 10  and breath 15\n",
      "Drawing a shape with color red and border width 1.3 \n",
      "None with the radius 15\n"
     ]
    }
   ],
   "source": [
    "\"\"\"8.Design a base class called \"Shape\" with attributes like \"colour\" and \"border_width.\"\n",
    "Create derived classes, \"Rectangle\" and \"Circle,\" that inherit from \"Shape\" and add\n",
    "specific attributes like \"length\" and \"width\" for the \"Rectangle\" class and \"radius\" for\n",
    "the \"Circle\" class.\"\"\"\n",
    "class shape:\n",
    "    def __init__(self,color,border_width):\n",
    "        self.color=color\n",
    "        self.border_width=border_width\n",
    "        \n",
    "    def draw(self):\n",
    "        print(f\"Drawing a shape with color {self.color} and border width {self.border_width} \")\n",
    "        \n",
    "class rectangle(shape):\n",
    "    def __init__(self,color,border_width,length,breadth):\n",
    "        super().__init__(color,border_width)\n",
    "        self.length=length\n",
    "        self.breadth=breadth\n",
    "        \n",
    "    def draw(self):\n",
    "        basic_info=super().draw()\n",
    "        print(f'{basic_info} and with the legnth {self.length}  and breath {self.breadth}')\n",
    "        \n",
    "class circle(shape):\n",
    "    def __init__(self,color,border_width,radius):\n",
    "        super().__init__(color,border_width)\n",
    "        self.radius=radius\n",
    "        \n",
    "    def draw(self):\n",
    "        basic_info=super().draw()\n",
    "        print(f'{basic_info} with the radius {self.radius}')\n",
    "        \n",
    "r1=rectangle('red','1.2',10,15)\n",
    "c1=circle('red','1.3',15)\n",
    "\n",
    "r1.draw()\n",
    "c1.draw()"
   ]
  },
  {
   "cell_type": "code",
   "execution_count": 10,
   "id": "0a139efe-de3b-4c90-9da3-8db91aae4151",
   "metadata": {},
   "outputs": [
    {
     "name": "stdout",
     "output_type": "stream",
     "text": [
      "1. this is new launch smartphone\n",
      "the size is 14.5 inch , ram:16gb , brand : vivo , model: t2 pro\n",
      "2. this is new launch tablet\n",
      "the battery size is 10000mhz , brand : iphone , model: ipad\n"
     ]
    }
   ],
   "source": [
    "\"\"\"9.Create a base class called \"Device\" with attributes like \"brand\" and \"model.\" Derive\n",
    "two classes, \"Phone\" and \"Tablet,\" from \"Device.\" Add specific attributes like\n",
    "\"screen_size\" for the \"Phone\" class and \"battery_capacity\" for the \"Tablet\" class.\"\"\"\n",
    "class Device:\n",
    "    def __init__(self,brand,model):\n",
    "        self.brand=brand\n",
    "        self.model=model\n",
    "\n",
    "class mobile(Device):\n",
    "    def __init__(self,screen_size,ram,brand,model):\n",
    "        super().__init__(brand,model)\n",
    "        self.screen_size=screen_size\n",
    "        self.ram=ram\n",
    "    \n",
    "    def display(self):\n",
    "        print('1. this is new launch smartphone')\n",
    "        print(f\"the size is {self.screen_size} , ram:{self.ram} , brand : {self.brand} , model: {self.model}\")\n",
    "\n",
    "class tablet(Device):\n",
    "    def __init__(self,battery_size,brand,model):\n",
    "        super().__init__(brand,model)\n",
    "        self.battery_size=battery_size\n",
    "        \n",
    "    def display(self):\n",
    "        print('2. this is new launch tablet')\n",
    "        print(f\"the battery size is {self.battery_size} , brand : {self.brand} , model: {self.model}\")\n",
    "        \n",
    "        \n",
    "m1=mobile('14.5 inch','16gb','vivo','t2 pro')\n",
    "t1=tablet('10000mhz','iphone','ipad')\n",
    "\n",
    "m1.display()\n",
    "t1.display()"
   ]
  },
  {
   "cell_type": "code",
   "execution_count": 14,
   "id": "cf205ac2-1639-418d-a488-870db70e638b",
   "metadata": {},
   "outputs": [
    {
     "name": "stdout",
     "output_type": "stream",
     "text": [
      "Savings Account:\n",
      "account number:1550 and balance is 45000 , interest rate= 5%\n",
      "Checking Account:\n",
      "account number:1551 and balance is 150000 deduct fees= 4500\n"
     ]
    }
   ],
   "source": [
    "\"\"\"Create a base class called \"BankAccount\" with attributes like \"account_number\" and\n",
    "\"balance.\" Derive two classes, \"SavingsAccount\" and \"CheckingAccount,\" from\n",
    "\"BankAccount.\" Add specific methods like \"calculate_interest\" for the\n",
    "\"SavingsAccount\" class and \"deduct_fees\" for the \"CheckingAccount\" class.\"\"\"\n",
    "class bankaccount:\n",
    "    def __init__(self, account_number, balance):\n",
    "        self.account_number=account_number\n",
    "        self.balance=balance\n",
    "        \n",
    "    def display1(self):\n",
    "        return f\"account number:{self.account_number} and balance is {self.balance}\"\n",
    "        \n",
    "class saving_account(bankaccount):\n",
    "    def __init__(self, account_number, balance, interest_rate):\n",
    "        super().__init__(account_number, balance)\n",
    "        self.interest_rate=interest_rate\n",
    "        \n",
    "    def display(self):\n",
    "        basic=super().display1()\n",
    "        print('Savings Account:')\n",
    "        print(f'{basic} , interest rate= {self.interest_rate}')\n",
    "        \n",
    "        \n",
    "class checking_account(bankaccount):\n",
    "    def __init__(self,account_number,balance,deduct_fees):\n",
    "        super().__init__(account_number,balance)\n",
    "        self.deduct_fees=deduct_fees\n",
    "        \n",
    "    def display(self):\n",
    "        basic=super().display1()\n",
    "        print('Checking Account:')\n",
    "        print(f'{basic} deduct fees= {self.deduct_fees}')\n",
    "\n",
    "a=saving_account('1550',45000,\"5%\")\n",
    "b=checking_account('1551',150000,4500)\n",
    "\n",
    "a.display()\n",
    "b.display()"
   ]
  }
 ],
 "metadata": {
  "kernelspec": {
   "display_name": "Python 3 (ipykernel)",
   "language": "python",
   "name": "python3"
  },
  "language_info": {
   "codemirror_mode": {
    "name": "ipython",
    "version": 3
   },
   "file_extension": ".py",
   "mimetype": "text/x-python",
   "name": "python",
   "nbconvert_exporter": "python",
   "pygments_lexer": "ipython3",
   "version": "3.11.5"
  }
 },
 "nbformat": 4,
 "nbformat_minor": 5
}
