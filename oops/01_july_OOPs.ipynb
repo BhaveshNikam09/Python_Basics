{
 "cells": [
  {
   "cell_type": "markdown",
   "id": "0b90313d-b99a-4a7d-8c88-eb830697334a",
   "metadata": {},
   "source": [
    "1.What is the primary goal of Object-Oriented Programming (OOP):\n",
    "->\n",
    "The primary goal of Object-Oriented Programming (OOP) is to model real-world entities and their interactions in a way that enhances code reusability, modularity, and maintainability. OOP achieves this by organizing software design around data, or objects, rather than functions and logic. These objects represent instances of classes, which are blueprints for the entities, encapsulating data (attributes) and behavior (methods) within them.\n",
    "\n",
    "Key principles of OOP, such as encapsulation, inheritance, polymorphism, and abstraction, help in achieving this goal by:\n",
    "\n",
    "Encapsulation: Bundling data and methods that operate on that data within a single unit or class, restricting direct access to some of the object's components and promoting data integrity.\n",
    "\n",
    "Inheritance: Allowing new classes to inherit properties and behavior from existing classes, promoting code reuse and hierarchical classifications.\n",
    "\n",
    "Polymorphism: Enabling objects to be treated as instances of their parent class, allowing for methods to be used interchangeably, depending on the object's specific class type.\n",
    "\n",
    "Abstraction: Hiding complex implementation details and exposing only necessary aspects, making the system easier to understand and maintain."
   ]
  },
  {
   "cell_type": "markdown",
   "id": "dadbdff0-7523-46a4-9b2f-11ee77a25226",
   "metadata": {},
   "source": [
    "2.What is an object in Python:\n",
    "->\n",
    "an object is an instance of a class that encapsulates both data (attributes) and behavior (methods). Objects are the fundamental building blocks in Python and represent entities that you can manipulate in your programs. Everything in Python is an object, including basic data types like integers, strings, lists, and even functions and classes themselves"
   ]
  },
  {
   "cell_type": "markdown",
   "id": "6a0b37c8-72c6-4e24-8cba-d0bb293579e6",
   "metadata": {},
   "source": [
    "3.What is a class in Python:\n",
    "->\n",
    "a class is a blueprint for creating objects (instances). It defines a set of attributes (variables) and methods (functions) that the objects created from the class will have. Classes are used in Object-Oriented Programming (OOP) to encapsulate data and functionality together, allowing for the creation of objects that can model real-world entities or concepts"
   ]
  },
  {
   "cell_type": "markdown",
   "id": "ec74713d-a60f-4710-af12-c6d63a19a63a",
   "metadata": {},
   "source": [
    "4.What are attributes and methods in a class:\n",
    "->\n",
    "Attributes are variables that hold data associated with a class and its objects. They represent the state or properties of the class or object. In Python, attributes can be categorized into two types:\n",
    "\n",
    "1.Instance Attributes:\n",
    "Defined inside the __init__ method (the constructor) using the self keyword.\n",
    "Unique to each instance of the class. Each object can have different values for these attributes.\n",
    "Example: A Car class might have instance attributes like color, make, and year.\n",
    "2.Class Attributes:\n",
    "\n",
    "Defined directly within the class body but outside of any methods.\n",
    "Shared across all instances of the class. All objects created from the class will have the same value for these attributes unless explicitly overridden.\n",
    "Example: A Car class might have a class attribute like wheels = 4 (since all cars typically have four wheels)."
   ]
  },
  {
   "cell_type": "markdown",
   "id": "cbaf34a9-dfd6-45cd-8e9e-646f8e436f61",
   "metadata": {},
   "source": [
    "5.What is the difference between class variables and instance variables in Python:\n",
    "->\n",
    "1.Class Variables\n",
    "Class variables are attributes that are shared across all instances of a class. They are defined directly within the class body (outside any methods) and are not tied to any particular instance. This means all instances of the class share the same value for class variables unless the value is overridden at the instance level.\n",
    "\n",
    "Key Characteristics of Class Variables:\n",
    "Shared across all instances: Every instance of the class has access to the same class variable, and changes to the class variable will affect all instances.\n",
    "Defined in the class body: They are defined directly within the class, outside of any instance methods.\n",
    "Used for constants or shared data: Class variables are typically used for constants or data that should be the same across all instances, such as default settings or shared configuration.\n",
    "\n",
    "2.Instance Variables\n",
    "Instance variables are attributes that are specific to each instance (object) of a class. They are defined within methods (usually within the __init__ constructor method) using the self keyword, which represents the instance of the class.\n",
    "\n",
    "Key Characteristics of Instance Variables:\n",
    "Unique to each instance: Each object has its own copy of instance variables, and changes to an instance variable only affect that particular instance.\n",
    "Defined in the constructor or methods: They are typically defined inside the __init__ method or other instance methods using self.\n",
    "Used for object-specific data: Instance variables store data that is unique to each object, such as an object's specific state or properties."
   ]
  },
  {
   "cell_type": "markdown",
   "id": "e524f570-698f-4504-9f98-5a25c64d7d65",
   "metadata": {},
   "source": [
    "6.What is the purpose of the self parameter in Python class methods:\n",
    "->\n",
    "The self parameter in Python class methods is a reference to the current instance of the class. It is used to access instance variables (attributes) and methods from within the class, allowing each instance to maintain its own state and behavior.\n",
    "\n",
    "Purpose of the self Parameter\n",
    "Refers to the Current Instance: The self parameter refers to the instance of the class on which the method is being called. This is essential because it allows the method to know which specific object it is operating on.\n",
    "\n",
    "Accessing Instance Variables: By using self, you can access and modify the instance variables that belong to the particular instance. Each instance of a class can have different values for its instance variables, and self helps in differentiating which instance's variables are being accessed or modified.\n",
    "\n",
    "Calling Other Methods within the Same Class: self is used to call other methods within the same class. This is helpful for creating complex behaviors that rely on multiple methods working together.\n",
    "\n",
    "Distinguishing between Class and Instance Attributes: Since Python does not have explicit syntax to differentiate between class and instance variables, self makes it clear that a method or variable belongs to an instance rather than the class itself."
   ]
  },
  {
   "cell_type": "code",
   "execution_count": 2,
   "id": "e3e9d445-77dd-4652-877d-bb8e0b1caeff",
   "metadata": {},
   "outputs": [
    {
     "name": "stdout",
     "output_type": "stream",
     "text": [
      "there are available copies :4\n",
      "the book is returned successfully\n",
      "books title:the tale of naruto uzumaki\n",
      "books author:Jiraya Sensei\n",
      "isbn:JRSU101015\n",
      "Publication Year2023\n",
      "5\n"
     ]
    }
   ],
   "source": [
    "# 7.For a library management system, you have to design the \"Book\" class with OOP principles in mind.\n",
    "class book:\n",
    "    def __init__(self,title,author,isbn,publication_year,available_copies):\n",
    "        self.title=title\n",
    "        self.author=author\n",
    "        self.isbn=isbn\n",
    "        self.publication_year=publication_year\n",
    "        self.available_copies=available_copies\n",
    "\n",
    "    def check_out(self):\n",
    "        if self.available_copies>0:\n",
    "            self.available_copies-=1\n",
    "            print(f'there are available copies :{self.available_copies}')\n",
    "        else:\n",
    "            print(\"there are no available copies\")\n",
    "\n",
    "    def return_book(self):\n",
    "        self.available_copies+=1\n",
    "        print(\"the book is returned successfully\")\n",
    "\n",
    "    def display_book_info(self):\n",
    "        print(f'books title:{self.title}')\n",
    "        print(f\"books author:{self.author}\")\n",
    "        print(f\"isbn:{self.isbn}\")\n",
    "        print(f\"Publication Year{self.publication_year}\")\n",
    "        print(f\"{self.available_copies}\")\n",
    "book1=book('the tale of naruto uzumaki','Jiraya Sensei','JRSU101015',2023,5)\n",
    "book1.check_out()\n",
    "book1.return_book()\n",
    "book1.display_book_info()"
   ]
  },
  {
   "cell_type": "code",
   "execution_count": 6,
   "id": "10d060d8-72e1-4e0a-8fc5-31538d1b22aa",
   "metadata": {},
   "outputs": [
    {
     "name": "stdout",
     "output_type": "stream",
     "text": [
      "this 1215 is reserved successfully\n",
      "the ticket of 1215 reservation has been cancelled\n",
      "Ticket ID: 1215\n",
      "Event Name: clg\n",
      "Event Date: 15/12/2015\n",
      "Venue: palghar\n",
      "Seat Number: 15s\n",
      "Price: $1755\n",
      "Reservation Status: Not Reserved\n"
     ]
    }
   ],
   "source": [
    "# 8.For a ticket booking system, you have to design the \"Ticket\" class with OOP principles in mind.\n",
    "class ticket_booking:\n",
    "    def __init__(self,ticket_id,event_name,event_date,venue,seat_number,price,is_reserved):\n",
    "        self.ticket_id=ticket_id\n",
    "        self.event_name=event_name\n",
    "        self.event_date=event_date\n",
    "        self.venue=venue\n",
    "        self.seat_number=seat_number\n",
    "        self.price=price\n",
    "        self.is_reserved= False\n",
    "\n",
    "    def ticket_reserved(self):\n",
    "        if not self.is_reserved:\n",
    "            self.is_reserved=True\n",
    "            print(f\"this {self.ticket_id} is reserved successfully\")\n",
    "        else:\n",
    "            print(\"ticket is reserved\")\n",
    "\n",
    "    def cancel_reservation(self):\n",
    "        if self.is_reserved:\n",
    "            self.is_reserved=False\n",
    "            print(f\"the ticket of {self.ticket_id} reservation has been cancelled\")\n",
    "\n",
    "        else:\n",
    "            print(f\"the reservtions of {self.ticket_id} is not done so cannot be cancelled\")\n",
    "\n",
    "    def ticket_info(self):\n",
    "        print(f\"Ticket ID: {self.ticket_id}\")\n",
    "        print(f\"Event Name: {self.event_name}\")\n",
    "        print(f\"Event Date: {self.event_date}\")\n",
    "        print(f\"Venue: {self.venue}\")\n",
    "        print(f\"Seat Number: {self.seat_number}\")\n",
    "        print(f\"Price: ${self.price}\")\n",
    "        print(f\"Reservation Status: {'Reserved' if self.is_reserved else 'Not Reserved'}\")\n",
    "\n",
    "t1=ticket_booking(1215,'clg','15/12/2015','palghar','15s',1755,'reserved') \n",
    "t1.ticket_reserved()\n",
    "t1.cancel_reservation()\n",
    "t1.ticket_info()"
   ]
  },
  {
   "cell_type": "code",
   "execution_count": 12,
   "id": "f581e1e1-a93f-4cb5-b9db-29ca7f2519ba",
   "metadata": {},
   "outputs": [
    {
     "name": "stdout",
     "output_type": "stream",
     "text": [
      "added Laptop to cart\n",
      "added smart phone to cart\n",
      "added earbuds to cart\n",
      "the item : smart phone is removed from the cart\n",
      "the item is not in the cart\n",
      "Items in your shopping cart:\n",
      "-Laptop\n",
      "-earbuds\n",
      "the cart is cleared\n"
     ]
    }
   ],
   "source": [
    "# 9. Making a shoping cart using opps\n",
    "class shopping_cart:\n",
    "    def __init__(self):\n",
    "        self.items=[] #creating a empty list as a cart\n",
    "    \n",
    "    def add_item(self,item):\n",
    "        self.items.append(item)  #using append method we are adding the item in it\n",
    "        print(f'added {item} to cart')\n",
    "\n",
    "    def removing_item(self,dist):\n",
    "        if dist in self.items:\n",
    "            self.items.remove(dist)\n",
    "            print(f\"the item : {dist} is removed from the cart\")\n",
    "        else:\n",
    "            print(\"the item is not in the cart\")\n",
    "\n",
    "    def dispay_cart(self):\n",
    "        if self.items:\n",
    "            print(\"Items in your shopping cart:\")\n",
    "            for i in self.items:\n",
    "                print(f'-{i}')\n",
    "        else:\n",
    "            print(\"Cart is empty\")\n",
    "\n",
    "    def clear_cart(self):\n",
    "        self.items.clear()\n",
    "        print('the cart is cleared')\n",
    "\n",
    "cart=shopping_cart()\n",
    "cart.add_item('Laptop')\n",
    "cart.add_item('smart phone')\n",
    "cart.add_item('earbuds')\n",
    "cart.removing_item('smart phone')\n",
    "cart.removing_item('headphones')\n",
    "cart.dispay_cart()\n",
    "cart.clear_cart()"
   ]
  },
  {
   "cell_type": "code",
   "execution_count": 22,
   "id": "6fecf42d-6e36-4dd7-a162-68e475209ad2",
   "metadata": {},
   "outputs": [
    {
     "name": "stdout",
     "output_type": "stream",
     "text": [
      "the attendance : {'16/7/2023': 'present', '17/7/2023': 'present', '18/7/2023': 'absent', '19/7/2023': 'present'}\n",
      "the average attendance is : 75.0\n"
     ]
    }
   ],
   "source": [
    "# 10. Imagine a school management system. You have to design the \"Student\" class using OOP concepts\n",
    "class student_attendence:\n",
    "    def __init__(self,name,age,grade,student_id):\n",
    "        self.name=name\n",
    "        self.age=age\n",
    "        self.grade=grade\n",
    "        self.student_id=student_id\n",
    "        self.attendance={}\n",
    "\n",
    "    def update_attendance(self,date,status):\n",
    "        self.attendance[date]=status\n",
    "\n",
    "    def get_attendance(self):\n",
    "         print(f'the attendance : {self.attendance}')\n",
    "    \n",
    "    def avg_attendance(self):\n",
    "        total_days=len(self.attendance)\n",
    "        present_days=sum(1 for status in self.attendance.values() if status.lower() == 'present')\n",
    "\n",
    "        avg_attendace=(present_days/total_days)*100\n",
    "        print(f'the average attendance is : {avg_attendace}')\n",
    "    \n",
    "stud=student_attendence('akash',15,'A+',15)\n",
    "stud.update_attendance('16/7/2023','present')\n",
    "stud.update_attendance('17/7/2023','present')\n",
    "stud.update_attendance('18/7/2023','absent')\n",
    "stud.update_attendance('19/7/2023','present')\n",
    "\n",
    "stud.get_attendance()\n",
    "stud.avg_attendance()"
   ]
  },
  {
   "cell_type": "code",
   "execution_count": null,
   "id": "4f27a2f8-4918-4061-a684-4d4196692aed",
   "metadata": {},
   "outputs": [],
   "source": []
  }
 ],
 "metadata": {
  "kernelspec": {
   "display_name": "Python 3 (ipykernel)",
   "language": "python",
   "name": "python3"
  },
  "language_info": {
   "codemirror_mode": {
    "name": "ipython",
    "version": 3
   },
   "file_extension": ".py",
   "mimetype": "text/x-python",
   "name": "python",
   "nbconvert_exporter": "python",
   "pygments_lexer": "ipython3",
   "version": "3.11.5"
  }
 },
 "nbformat": 4,
 "nbformat_minor": 5
}
